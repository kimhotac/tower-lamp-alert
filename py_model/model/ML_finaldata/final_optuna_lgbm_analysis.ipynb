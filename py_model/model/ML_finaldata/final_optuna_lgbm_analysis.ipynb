{
 "cells": [
  {
   "cell_type": "markdown",
   "id": "eb648b87",
   "metadata": {},
   "source": [
    "## 최종 Optuna 튜닝 결과 분석\n",
    "이 노트북은 Optuna를 활용한 LightGBM 하이퍼파라미터 튜닝 결과를 요약한 것입니다."
   ]
  },
  {
   "cell_type": "markdown",
   "id": "4087243b",
   "metadata": {},
   "source": [
    "## 최적 하이퍼파라미터\n",
    "Optuna를 통해 탐색된 최적의 파라미터 조합은 다음과 같습니다:\n",
    "\n",
    "- **learning_rate**: 0.0913868172100159\n",
    "- **num_leaves**: 110\n",
    "- **max_depth**: 12\n",
    "- **min_child_samples**: 50\n",
    "- **reg_alpha**: 1.0389485429687317\n",
    "- **reg_lambda**: 1.4800132604020955\n",
    "- **feature_fraction**: 0.8152253766995383\n",
    "- **bagging_fraction**: 0.7194923638619213\n",
    "- **bagging_freq**: 8"
   ]
  },
  {
   "cell_type": "markdown",
   "id": "77809132",
   "metadata": {},
   "source": [
    "## 최고 정확도\n",
    "- 정확도 (Accuracy): **1.00000**"
   ]
  },
  {
   "cell_type": "markdown",
   "id": "64f3db29",
   "metadata": {},
   "source": [
    "## 최적 파라미터로 모델 재학습\n",
    "최적 파라미터를 사용하여 LightGBM 모델을 재학습하고, 성능을 검증합니다."
   ]
  },
  {
   "cell_type": "code",
   "execution_count": null,
   "id": "47069a43",
   "metadata": {},
   "outputs": [],
   "source": [
    "!pip install lightgbm scikit-learn\n",
    "\n",
    "import lightgbm as lgb\n",
    "from sklearn.model_selection import train_test_split\n",
    "from sklearn.metrics import accuracy_score\n",
    "from sklearn.datasets import load_breast_cancer\n",
    "\n",
    "# 데이터셋 로드 (예시: 이진 분류)\n",
    "X, y = load_breast_cancer(return_X_y=True)\n",
    "X_train, X_test, y_train, y_test = train_test_split(X, y, test_size=0.2, random_state=42)\n",
    "\n",
    "# 최적 파라미터 적용\n",
    "params = {'learning_rate': 0.0913868172100159, 'num_leaves': 110, 'max_depth': 12, 'min_child_samples': 50, 'reg_alpha': 1.0389485429687317, 'reg_lambda': 1.4800132604020955, 'feature_fraction': 0.8152253766995383, 'bagging_fraction': 0.7194923638619213, 'bagging_freq': 8}\n",
    "params['objective'] = 'binary'\n",
    "params['metric'] = 'binary_error'\n",
    "params['verbosity'] = -1\n",
    "\n",
    "# LightGBM Dataset\n",
    "train_data = lgb.Dataset(X_train, label=y_train)\n",
    "valid_data = lgb.Dataset(X_test, label=y_test, reference=train_data)\n",
    "\n",
    "# 학습\n",
    "model = lgb.train(params, train_data, valid_sets=[valid_data], verbose_eval=False)\n",
    "\n",
    "# 예측 및 정확도 평가\n",
    "y_pred = model.predict(X_test)\n",
    "y_pred_binary = (y_pred > 0.5).astype(int)\n",
    "acc = accuracy_score(y_test, y_pred_binary)\n",
    "print(f\"재학습 정확도: {acc:.5f}\")\n"
   ]
  }
 ],
 "metadata": {},
 "nbformat": 4,
 "nbformat_minor": 5
}
