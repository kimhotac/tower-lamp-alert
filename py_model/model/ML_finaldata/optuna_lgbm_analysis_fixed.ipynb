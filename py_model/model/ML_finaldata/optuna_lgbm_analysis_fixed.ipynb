{
 "cells": [
  {
   "cell_type": "markdown",
   "id": "469d2d79",
   "metadata": {},
   "source": [
    "## 1. 환경 설정 및 데이터 로드\n",
    "Optuna 튜닝 결과를 SQLite에서 불러오고, 정확도(accuracy) 컬럼을 추가합니다."
   ]
  },
  {
   "cell_type": "code",
   "execution_count": null,
   "id": "e3d2cabe",
   "metadata": {},
   "outputs": [],
   "source": [
    "!pip install optuna\n",
    "\n",
    "import optuna\n",
    "import pandas as pd\n",
    "import matplotlib.pyplot as plt\n",
    "import seaborn as sns\n",
    "%matplotlib inline\n",
    "\n",
    "# SQLite 경로 설정\n",
    "storage = \"sqlite:///optuna_lgbm.db\"\n",
    "study = optuna.load_study(study_name=\"lgbm_study\", storage=storage)\n",
    "\n",
    "# DataFrame 변환\n",
    "df = study.trials_dataframe()\n",
    "df[\"accuracy\"] = 1.0 - df[\"value\"]\n"
   ]
  },
  {
   "cell_type": "markdown",
   "id": "25c665b6",
   "metadata": {},
   "source": [
    "## 2. 정확도 기준 상위 5개 Trial 보기\n",
    "가장 성능이 좋았던 상위 5개의 실험을 보여줍니다."
   ]
  },
  {
   "cell_type": "code",
   "execution_count": null,
   "id": "afec6c50",
   "metadata": {},
   "outputs": [],
   "source": [
    "df_sorted = df.sort_values(\"accuracy\", ascending=False)\n",
    "top5 = df_sorted.head(5)\n",
    "top5[[\"number\", \"value\", \"accuracy\", \"params\"]]\n"
   ]
  },
  {
   "cell_type": "markdown",
   "id": "72bb5a91",
   "metadata": {},
   "source": [
    "## 3. 정확도 변화 시각화\n",
    "실험 순서에 따라 모델 성능(정확도)이 어떻게 변화했는지 확인합니다."
   ]
  },
  {
   "cell_type": "code",
   "execution_count": null,
   "id": "1c2eb2ee",
   "metadata": {},
   "outputs": [],
   "source": [
    "plt.figure(figsize=(10, 4))\n",
    "sns.lineplot(x=df.index, y=\"accuracy\", data=df)\n",
    "plt.title(\"Accuracy Trend per Trial\")\n",
    "plt.xlabel(\"Trial Number\")\n",
    "plt.ylabel(\"Accuracy\")\n",
    "plt.grid(True)\n",
    "plt.show()\n"
   ]
  },
  {
   "cell_type": "markdown",
   "id": "b26eab9d",
   "metadata": {},
   "source": [
    "## 4. 하이퍼파라미터 중요도 시각화\n",
    "어떤 파라미터가 성능 향상에 영향을 많이 주었는지 시각화합니다."
   ]
  },
  {
   "cell_type": "code",
   "execution_count": null,
   "id": "b57888cb",
   "metadata": {},
   "outputs": [],
   "source": [
    "from optuna.visualization.matplotlib import plot_param_importances\n",
    "\n",
    "plot_param_importances(study)\n",
    "plt.title(\"Parameter Importance\")\n",
    "plt.tight_layout()\n",
    "plt.show()\n"
   ]
  },
  {
   "cell_type": "markdown",
   "id": "51bcb8f2",
   "metadata": {},
   "source": [
    "## 5. 파라미터 vs 정확도 분포 보기\n",
    "파라미터의 값이 정확도에 어떤 영향을 주었는지 확인할 수 있습니다."
   ]
  },
  {
   "cell_type": "code",
   "execution_count": null,
   "id": "7e11fdfe",
   "metadata": {},
   "outputs": [],
   "source": [
    "param = \"params_learning_rate\"  # 예시\n",
    "if param in df.columns:\n",
    "    plt.figure(figsize=(8, 4))\n",
    "    sns.scatterplot(x=df[param], y=df[\"accuracy\"])\n",
    "    plt.title(f\"{param} vs Accuracy\")\n",
    "    plt.xlabel(param)\n",
    "    plt.ylabel(\"Accuracy\")\n",
    "    plt.grid(True)\n",
    "    plt.show()\n",
    "else:\n",
    "    print(\"해당 파라미터가 존재하지 않습니다.\")\n"
   ]
  }
 ],
 "metadata": {},
 "nbformat": 4,
 "nbformat_minor": 5
}
